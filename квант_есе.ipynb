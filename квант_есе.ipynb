{
  "nbformat": 4,
  "nbformat_minor": 0,
  "metadata": {
    "colab": {
      "provenance": []
    },
    "kernelspec": {
      "name": "python3",
      "display_name": "Python 3"
    },
    "language_info": {
      "name": "python"
    }
  },
  "cells": [
    {
      "cell_type": "markdown",
      "source": [
        "Реалізація децентралізованого протоколу\n",
        "\n",
        "Інформація про квантові стани грошей розподіляється між кількома вузлами (учасниками системи).\n",
        "\n",
        "Вузли голосують за автентичність купюри на основі своїх даних.\n",
        "\n",
        "Завдяки квантовим принципам (суперпозиція, неможливість клонування) зловмисники не можуть підробити купюру."
      ],
      "metadata": {
        "id": "slVGiKV3etek"
      }
    },
    {
      "cell_type": "code",
      "execution_count": 5,
      "metadata": {
        "colab": {
          "base_uri": "https://localhost:8080/"
        },
        "id": "3rx6VzV_ekmV",
        "outputId": "eee7dcdc-5fe3-46b8-a042-000622e2e43c"
      },
      "outputs": [
        {
          "output_type": "stream",
          "name": "stdout",
          "text": [
            "Оригінальні базиси: ['+', 'x', '+', '+', '+', '+', 'x', 'x', '+', '+', '+', '+']\n",
            "Оригінальні стани: [1, 0, 1, 1, 1, 1, 1, 1, 1, 0, 0, 0]\n",
            "Ключ вузла 1: {'indices': [7, 2, 1, 3], 'bases': ['x', '+', 'x', '+'], 'states': [1, 1, 0, 1]}\n",
            "Ключ вузла 2: {'indices': [10, 2, 9, 3], 'bases': ['+', '+', '+', '+'], 'states': [0, 1, 0, 1]}\n",
            "Ключ вузла 3: {'indices': [3, 0, 5, 10], 'bases': ['+', '+', '+', '+'], 'states': [1, 1, 1, 0]}\n"
          ]
        }
      ],
      "source": [
        "#Кожен учасник мережі (вузол) отримує частину інформації про квантову купюру.\n",
        "import random\n",
        "\n",
        "class QuantumMoney:\n",
        "    def __init__(self, num_qubits):\n",
        "        self.num_qubits = num_qubits\n",
        "        self.bases = [random.choice(['+', 'x']) for _ in range(num_qubits)]\n",
        "        self.states = [random.choice([0, 1]) for _ in range(num_qubits)]\n",
        "\n",
        "    def distribute_keys(self, num_nodes):\n",
        "        \"\"\"Розподіл інформації між вузлами.\"\"\"\n",
        "        shares = []\n",
        "        for _ in range(num_nodes):\n",
        "            indices = random.sample(range(self.num_qubits), k=self.num_qubits // num_nodes)\n",
        "            share = {'indices': indices, 'bases': [self.bases[i] for i in indices], 'states': [self.states[i] for i in indices]}\n",
        "            shares.append(share)\n",
        "        return shares\n",
        "\n",
        "# Генеруємо квантові гроші\n",
        "money = QuantumMoney(12)\n",
        "print(\"Оригінальні базиси:\", money.bases)\n",
        "print(\"Оригінальні стани:\", money.states)\n",
        "\n",
        "# Розподіл серед 3 вузлів\n",
        "shares = money.distribute_keys(3)\n",
        "for i, share in enumerate(shares, start=1):\n",
        "    print(f\"Ключ вузла {i}:\", share)\n"
      ]
    },
    {
      "cell_type": "code",
      "source": [
        "#Кожен вузол отримує частину даних і голосує, чи купюра автентична.\n",
        "class Node:\n",
        "    def __init__(self, share):\n",
        "        self.share = share\n",
        "\n",
        "    def validate(self, provided_bases, provided_states):\n",
        "        \"\"\"Перевіряє частину квантових грошей.\"\"\"\n",
        "        correct = 0\n",
        "        for i, index in enumerate(self.share['indices']):\n",
        "            if self.share['bases'][i] == provided_bases[index]:  # Збіг базисів\n",
        "                if self.share['states'][i] == provided_states[index]:  # Збіг станів\n",
        "                    correct += 1\n",
        "        return correct / len(self.share['indices'])\n",
        "\n",
        "# Перевірка кожним вузлом\n",
        "provided_bases = ['+', 'x', '+', 'x', '+', 'x', '+', 'x', '+', 'x', '+', 'x']  # Випадкові базиси\n",
        "provided_states = [0, 1, 0, 0, 1, 1, 0, 1, 1, 0, 1, 1]  # Випадкові стани\n",
        "\n",
        "nodes = [Node(share) for share in shares]\n",
        "votes = [node.validate(provided_bases, provided_states) for node in nodes]\n",
        "\n",
        "print(\"Результати вузлів:\", votes)\n",
        "\n",
        "# Консенсус\n",
        "threshold = 0.7  # Порог точності\n",
        "if all(vote >= threshold for vote in votes):\n",
        "    print(\"Купюра визнана автентичною!\")\n",
        "else:\n",
        "    print(\"Купюра не автентична.\")\n"
      ],
      "metadata": {
        "colab": {
          "base_uri": "https://localhost:8080/"
        },
        "id": "2BXJXoazfN8V",
        "outputId": "30bc3399-4792-4cd8-e679-ffa51ba7cd4e"
      },
      "execution_count": 6,
      "outputs": [
        {
          "output_type": "stream",
          "name": "stdout",
          "text": [
            "Результати вузлів: [0.25, 0.0, 0.0]\n",
            "Купюра не автентична.\n"
          ]
        }
      ]
    },
    {
      "cell_type": "markdown",
      "source": [
        "Протокол з iнтерактивною перевiркою"
      ],
      "metadata": {
        "id": "3W4VVG_rfUlx"
      }
    },
    {
      "cell_type": "markdown",
      "source": [
        "Кубіти створюються з випадковими базисами (+ або x) і станами (0 або 1).\n",
        "\n",
        "Банк надсилає список випадкових базисів для перевірки.\n",
        "                                                               \n",
        "Відповіді власника:\n",
        "Якщо базиси збігаються з оригінальними, власник повертає справжні стани.\n",
        "Якщо базиси не збігаються, власник вимірює у неправильному базисі, через що відповіді стають випадковими.\n",
        "\n",
        "Банк порівнює відповіді власника з оригінальними станами.\n",
        "Результат визначається як частка правильних відповідей."
      ],
      "metadata": {
        "id": "9iOr2ZjPfV2L"
      }
    },
    {
      "cell_type": "code",
      "source": [
        "import random\n",
        "\n",
        "class QuantumMoney:\n",
        "    def __init__(self, num_qubits):\n",
        "        self.num_qubits = num_qubits\n",
        "        self.bases = [random.choice(['+', 'x']) for _ in range(num_qubits)]\n",
        "        self.states = [random.choice([0, 1]) for _ in range(num_qubits)]\n",
        "\n",
        "    def interactive_check(self):\n",
        "        \"\"\"Інтерактивна перевірка з банком.\"\"\"\n",
        "        # Банк надсилає запити (випадкові базиси)\n",
        "        bank_bases = [random.choice(['+', 'x']) for _ in range(self.num_qubits)]\n",
        "        print(\"Банк запитує базиси:\", bank_bases)\n",
        "\n",
        "        # Власник відповідає на основі запитів банку\n",
        "        responses = []\n",
        "        for i in range(self.num_qubits):\n",
        "            if bank_bases[i] == self.bases[i]:  # Якщо базиси співпадають\n",
        "                responses.append(self.states[i])\n",
        "            else:\n",
        "                responses.append(random.choice([0, 1]))  # Випадковий стан\n",
        "        print(\"Відповіді власника:\", responses)\n",
        "\n",
        "        # Банк перевіряє відповіді\n",
        "        correct = 0\n",
        "        for i in range(self.num_qubits):\n",
        "            if bank_bases[i] == self.bases[i] and responses[i] == self.states[i]:\n",
        "                correct += 1\n",
        "\n",
        "        accuracy = correct / self.num_qubits\n",
        "        print(f\"Рівень точності перевірки: {accuracy * 100:.2f}%\")\n",
        "        return accuracy\n",
        "\n",
        "\n",
        "# Створення купюри\n",
        "money = QuantumMoney(10)\n",
        "print(\"Оригінальні базиси:\", money.bases)\n",
        "print(\"Оригінальні стани:\", money.states)\n",
        "\n",
        "# Інтерактивна перевірка\n",
        "accuracy = money.interactive_check()\n",
        "if accuracy > 0.8:  # Порог точності для успішного проходження\n",
        "    print(\"Купюра автентична!\")\n",
        "else:\n",
        "    print(\"Купюра не автентична!\")\n"
      ],
      "metadata": {
        "colab": {
          "base_uri": "https://localhost:8080/"
        },
        "id": "h3YacV_cfVdD",
        "outputId": "df8f822b-cbd6-452b-f10a-418ce7ab2382"
      },
      "execution_count": 7,
      "outputs": [
        {
          "output_type": "stream",
          "name": "stdout",
          "text": [
            "Оригінальні базиси: ['+', '+', '+', '+', '+', '+', 'x', 'x', 'x', 'x']\n",
            "Оригінальні стани: [0, 1, 1, 0, 0, 0, 1, 1, 0, 0]\n",
            "Банк запитує базиси: ['x', 'x', 'x', '+', '+', 'x', 'x', 'x', 'x', '+']\n",
            "Відповіді власника: [1, 0, 0, 0, 0, 0, 1, 1, 0, 1]\n",
            "Рівень точності перевірки: 50.00%\n",
            "Купюра не автентична!\n"
          ]
        }
      ]
    },
    {
      "cell_type": "markdown",
      "source": [
        "Реалізація протоколу Візнера"
      ],
      "metadata": {
        "id": "1NTwBriifkAj"
      }
    },
    {
      "cell_type": "markdown",
      "source": [
        "1. Генерація купюри"
      ],
      "metadata": {
        "id": "nBLy-mZYflpY"
      }
    },
    {
      "cell_type": "code",
      "source": [
        "import random\n",
        "\n",
        "class WiesnerQuantumMoney:\n",
        "    def __init__(self, num_qubits):\n",
        "        self.num_qubits = num_qubits\n",
        "        self.bases = [random.choice(['+', 'x']) for _ in range(num_qubits)]\n",
        "        self.states = [random.choice([0, 1]) for _ in range(num_qubits)]\n",
        "\n",
        "    def get_qubits(self):\n",
        "        \"\"\"Повертає квантові стани купюри (базиси та стани)\"\"\"\n",
        "        return self.bases, self.states"
      ],
      "metadata": {
        "id": "nCCWEO5wfjAA"
      },
      "execution_count": 8,
      "outputs": []
    },
    {
      "cell_type": "markdown",
      "source": [
        "2. Перевірка купюри"
      ],
      "metadata": {
        "id": "YJ4zyg2vfqZI"
      }
    },
    {
      "cell_type": "code",
      "source": [
        "class Bank:\n",
        "    def __init__(self, bases, states):\n",
        "        \"\"\"Зберігає базиси та стани купюри для перевірки\"\"\"\n",
        "        self.bases = bases\n",
        "        self.states = states\n",
        "\n",
        "    def verify(self, provided_bases, provided_states):\n",
        "        \"\"\"Перевіряє відповідність базисів та станів\"\"\"\n",
        "        correct = 0\n",
        "        for i in range(len(self.bases)):\n",
        "            if self.bases[i] == provided_bases[i]:  # Базиси збігаються\n",
        "                if self.states[i] == provided_states[i]:  # Стани збігаються\n",
        "                    correct += 1\n",
        "        accuracy = correct / len(self.bases)\n",
        "        print(f\"Рівень точності перевірки: {accuracy * 100:.2f}%\")\n",
        "        return accuracy > 0.8  # Порог точності для успішної перевірки"
      ],
      "metadata": {
        "id": "4JZQW0HdfshJ"
      },
      "execution_count": 9,
      "outputs": []
    },
    {
      "cell_type": "markdown",
      "source": [
        "3. Власник вимірює купюру"
      ],
      "metadata": {
        "id": "V4l7kcOXfuyP"
      }
    },
    {
      "cell_type": "code",
      "source": [
        "def owner_measurement(bases, states):\n",
        "    \"\"\"Власник вимірює квантові стани\"\"\"\n",
        "    provided_bases = [random.choice(['+', 'x']) for _ in bases]  # Випадкові базиси\n",
        "    provided_states = []\n",
        "    for i in range(len(bases)):\n",
        "        if provided_bases[i] == bases[i]:  # Вимірювання у відповідному базисі\n",
        "            provided_states.append(states[i])\n",
        "        else:\n",
        "            provided_states.append(random.choice([0, 1]))  # Випадковий стан\n",
        "    return provided_bases, provided_states"
      ],
      "metadata": {
        "id": "ClzIvh0jfwfP"
      },
      "execution_count": 10,
      "outputs": []
    },
    {
      "cell_type": "markdown",
      "source": [
        "4. Демонстрація протоколу"
      ],
      "metadata": {
        "id": "5uaneLcdfyjx"
      }
    },
    {
      "cell_type": "code",
      "source": [
        "# Створення купюри\n",
        "num_qubits = 100\n",
        "quantum_money = WiesnerQuantumMoney(num_qubits)\n",
        "bases, states = quantum_money.get_qubits()\n",
        "print(\"Оригінальні базиси:\", bases)\n",
        "print(\"Оригінальні стани:\", states)\n",
        "\n",
        "# Банк зберігає інформацію про купюру\n",
        "bank = Bank(bases, states)\n",
        "\n",
        "# Власник вимірює купюру\n",
        "provided_bases, provided_states = owner_measurement(bases, states)\n",
        "print(\"Виміряні базиси:\", provided_bases)\n",
        "print(\"Виміряні стани:\", provided_states)\n",
        "\n",
        "# Перевірка купюри\n",
        "if bank.verify(provided_bases, provided_states):\n",
        "    print(\"Купюра автентична!\")\n",
        "else:\n",
        "    print(\"Купюра не автентична!\")"
      ],
      "metadata": {
        "colab": {
          "base_uri": "https://localhost:8080/"
        },
        "id": "PTfu2RQof1_K",
        "outputId": "aebf14f9-d046-4bfb-ffdb-df3003b41dad"
      },
      "execution_count": 11,
      "outputs": [
        {
          "output_type": "stream",
          "name": "stdout",
          "text": [
            "Оригінальні базиси: ['x', 'x', '+', 'x', '+', 'x', '+', 'x', 'x', 'x', '+', 'x', '+', '+', 'x', '+', '+', 'x', '+', '+', '+', '+', '+', 'x', '+', '+', 'x', '+', 'x', 'x', 'x', 'x', '+', '+', 'x', 'x', '+', '+', '+', '+', 'x', 'x', 'x', 'x', '+', '+', '+', '+', 'x', 'x', '+', 'x', '+', 'x', 'x', '+', '+', '+', '+', '+', '+', '+', 'x', 'x', '+', '+', 'x', 'x', 'x', '+', 'x', '+', 'x', '+', '+', 'x', 'x', '+', '+', '+', 'x', 'x', '+', 'x', '+', 'x', '+', '+', '+', 'x', 'x', 'x', 'x', 'x', '+', '+', 'x', '+', 'x', '+']\n",
            "Оригінальні стани: [0, 0, 1, 1, 0, 1, 1, 1, 0, 0, 0, 0, 0, 1, 1, 1, 1, 0, 0, 0, 0, 1, 0, 1, 0, 0, 1, 0, 1, 0, 0, 0, 1, 1, 0, 0, 0, 0, 0, 0, 1, 1, 0, 0, 1, 1, 1, 1, 0, 0, 1, 1, 0, 0, 1, 0, 1, 1, 1, 0, 0, 0, 1, 1, 0, 0, 0, 1, 1, 0, 1, 1, 0, 1, 1, 0, 1, 0, 0, 1, 0, 1, 1, 1, 1, 1, 1, 1, 0, 1, 0, 1, 0, 0, 0, 1, 1, 1, 1, 1]\n",
            "Виміряні базиси: ['x', 'x', '+', 'x', '+', 'x', '+', '+', 'x', '+', '+', '+', '+', '+', '+', 'x', 'x', 'x', 'x', 'x', 'x', 'x', '+', '+', 'x', '+', 'x', '+', 'x', '+', 'x', 'x', 'x', '+', '+', 'x', 'x', '+', '+', 'x', 'x', 'x', '+', '+', 'x', 'x', 'x', '+', '+', 'x', '+', '+', '+', '+', 'x', 'x', '+', '+', '+', 'x', 'x', 'x', 'x', 'x', '+', 'x', '+', '+', '+', 'x', 'x', 'x', '+', '+', '+', '+', 'x', '+', 'x', '+', '+', 'x', 'x', '+', '+', '+', 'x', 'x', '+', '+', 'x', 'x', 'x', 'x', '+', 'x', '+', '+', '+', '+']\n",
            "Виміряні стани: [0, 0, 1, 1, 0, 1, 1, 0, 0, 1, 0, 0, 0, 1, 0, 0, 0, 0, 0, 0, 1, 1, 0, 0, 1, 0, 1, 0, 1, 1, 0, 0, 0, 1, 1, 0, 1, 0, 0, 1, 1, 1, 0, 0, 1, 0, 0, 1, 1, 0, 1, 1, 0, 1, 1, 1, 1, 1, 1, 0, 1, 1, 1, 1, 0, 0, 0, 0, 0, 1, 1, 0, 1, 1, 1, 1, 1, 0, 0, 1, 1, 1, 1, 1, 1, 1, 0, 1, 0, 1, 0, 1, 0, 0, 0, 1, 0, 1, 0, 1]\n",
            "Рівень точності перевірки: 52.00%\n",
            "Купюра не автентична!\n"
          ]
        }
      ]
    }
  ]
}